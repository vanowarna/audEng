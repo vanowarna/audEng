{
  "nbformat": 4,
  "nbformat_minor": 0,
  "metadata": {
    "colab": {
      "provenance": [],
      "authorship_tag": "ABX9TyOVBENQqnStPVvu6TidS3zA",
      "include_colab_link": true
    },
    "kernelspec": {
      "name": "python3",
      "display_name": "Python 3"
    },
    "language_info": {
      "name": "python"
    }
  },
  "cells": [
    {
      "cell_type": "markdown",
      "metadata": {
        "id": "view-in-github",
        "colab_type": "text"
      },
      "source": [
        "<a href=\"https://colab.research.google.com/github/vanowarna/audEng/blob/main/Activity%205/pitch_shifting_wavelet.ipynb\" target=\"_parent\"><img src=\"https://colab.research.google.com/assets/colab-badge.svg\" alt=\"Open In Colab\"/></a>"
      ]
    },
    {
      "cell_type": "code",
      "execution_count": 4,
      "metadata": {
        "colab": {
          "base_uri": "https://localhost:8080/"
        },
        "id": "wY557D6AtYa6",
        "outputId": "1e3054c4-53db-4d1b-b9e0-c5b4f014474e"
      },
      "outputs": [
        {
          "output_type": "stream",
          "name": "stdout",
          "text": [
            "Drive already mounted at /content/drive; to attempt to forcibly remount, call drive.mount(\"/content/drive\", force_remount=True).\n",
            "Collecting pydub\n",
            "  Downloading pydub-0.25.1-py2.py3-none-any.whl (32 kB)\n",
            "Installing collected packages: pydub\n",
            "Successfully installed pydub-0.25.1\n"
          ]
        }
      ],
      "source": [
        "from google.colab import drive, files\n",
        "drive.mount('/content/drive')\n",
        "!pip install pydub\n"
      ]
    },
    {
      "cell_type": "code",
      "source": [
        "# input_file = '/content/drive/Shareddrives/AlgoPirates/vanowarna/audEng/pitch shifting/cropped_perfect_vocal.wav'\n",
        "# output_file = '/content/drive/Shareddrives/AlgoPirates/vanowarna/audEng/pitch shifting/output_pitch_shifted_wavelet.wav'"
      ],
      "metadata": {
        "id": "dB2yrLWDtdZb"
      },
      "execution_count": 5,
      "outputs": []
    },
    {
      "cell_type": "code",
      "source": [
        "import numpy as np\n",
        "import wave\n",
        "from scipy.signal import resample\n",
        "from pydub import AudioSegment\n",
        "\n",
        "# Specify input and output file paths\n",
        "input_file = '/content/drive/Shareddrives/AlgoPirates/vanowarna/audEng/pitch shifting/cropped_perfect_vocal.wav'\n",
        "output_file = '/content/drive/Shareddrives/AlgoPirates/vanowarna/audEng/pitch shifting/output_pitch_shifted_wavelet.wav'\n",
        "\n",
        "# Read the input WAV file\n",
        "input_wave = wave.open(input_file, 'r')\n",
        "\n",
        "signal = input_wave.readframes(-1)\n",
        "signal = np.frombuffer(signal, 'int16')\n",
        "\n",
        "left, right = signal[0::2], signal[1::2]\n",
        "\n",
        "# Example: Increase pitch by a factor (modify as needed)\n",
        "pitch_factor = 1.5\n",
        "\n",
        "# Resample the left channel to maintain duration\n",
        "modified_left = resample(left, int(len(left) / pitch_factor))\n",
        "\n",
        "# Adjust the length of the modified left channel to match the original right channel\n",
        "min_len = min(len(modified_left), len(right))\n",
        "modified_left = modified_left[:min_len]\n",
        "right = right[:min_len]\n",
        "\n",
        "# Combine the modified left channel and the original right channel\n",
        "modified_signal = np.zeros(2 * min_len, dtype=np.int16)\n",
        "modified_signal[0::2] = modified_left\n",
        "modified_signal[1::2] = right\n",
        "\n",
        "# Save the modified signal to a new WAV file using pydub\n",
        "modified_audio = AudioSegment(\n",
        "    modified_signal.tobytes(),\n",
        "    frame_rate=input_wave.getframerate(),\n",
        "    sample_width=input_wave.getsampwidth(),\n",
        "    channels=2  # Stereo\n",
        ")\n",
        "modified_audio.export(output_file, format=\"wav\")\n",
        "\n",
        "# Close the input WAV file\n",
        "input_wave.close()\n"
      ],
      "metadata": {
        "id": "eJYvzn8RthiC"
      },
      "execution_count": 6,
      "outputs": []
    }
  ]
}